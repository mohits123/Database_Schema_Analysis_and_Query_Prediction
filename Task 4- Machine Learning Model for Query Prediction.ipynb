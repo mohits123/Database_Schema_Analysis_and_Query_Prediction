{
 "cells": [
  {
   "cell_type": "code",
   "execution_count": null,
   "metadata": {
    "id": "q71RSfe_Y8KI"
   },
   "outputs": [],
   "source": [
    "#Data Preparation: Preprocess the historical log of executed queries to serve as training\n",
    "#data for the machine learning model. This may involve feature extraction, normalization,\n",
    "#and splitting the data into training and test sets.\n",
    "#Model Training: Select a suitable machine learning algorithm (e.g., LSTM,\n",
    "#Transformer-based models for sequence prediction) to train a model capable of\n",
    "#predicting future queries based on the historical data.\n",
    "#Evaluation: Evaluate the model's performance using appropriate metrics (e.g., accuracy,\n",
    "#precision, recall) on the test set. Adjust the model as necessary to improve performance.\n",
    "#Prediction: Demonstrate the model's capability by using it to predict a set of upcoming\n",
    "#queries. Analyze the predictions to understand the model's strengths and weaknesses."
   ]
  },
  {
   "cell_type": "code",
   "execution_count": null,
   "metadata": {
    "id": "5RgzwSQQa4ye"
   },
   "outputs": [],
   "source": []
  },
  {
   "cell_type": "code",
   "execution_count": 2,
   "metadata": {
    "executionInfo": {
     "elapsed": 17,
     "status": "ok",
     "timestamp": 1706868068693,
     "user": {
      "displayName": "mohit sharma",
      "userId": "17302262804807264505"
     },
     "user_tz": -330
    },
    "id": "82JIPpaQQvyi"
   },
   "outputs": [],
   "source": [
    "import pandas as pd\n",
    "import numpy as np\n",
    "import matplotlib.pyplot as plt\n",
    "import seaborn as sns\n"
   ]
  },
  {
   "cell_type": "code",
   "execution_count": 5,
   "metadata": {
    "executionInfo": {
     "elapsed": 1414,
     "status": "ok",
     "timestamp": 1706868207096,
     "user": {
      "displayName": "mohit sharma",
      "userId": "17302262804807264505"
     },
     "user_tz": -330
    },
    "id": "xEMOxMcPQ8vR"
   },
   "outputs": [],
   "source": [
    "# Load your dataset\n",
    "df = pd.read_csv('/content/drive/MyDrive/data/query_log.csv')"
   ]
  },
  {
   "cell_type": "code",
   "execution_count": 6,
   "metadata": {
    "colab": {
     "base_uri": "https://localhost:8080/",
     "height": 206
    },
    "executionInfo": {
     "elapsed": 35,
     "status": "ok",
     "timestamp": 1706868221706,
     "user": {
      "displayName": "mohit sharma",
      "userId": "17302262804807264505"
     },
     "user_tz": -330
    },
    "id": "B-Ky51RXRGcS",
    "outputId": "670720b5-164d-4356-b092-42b6169785e3"
   },
   "outputs": [
    {
     "data": {
      "text/html": [
       "\n",
       "  <div id=\"df-8a9a4159-86ae-499c-9ad4-148b7d1868b9\" class=\"colab-df-container\">\n",
       "    <div>\n",
       "<style scoped>\n",
       "    .dataframe tbody tr th:only-of-type {\n",
       "        vertical-align: middle;\n",
       "    }\n",
       "\n",
       "    .dataframe tbody tr th {\n",
       "        vertical-align: top;\n",
       "    }\n",
       "\n",
       "    .dataframe thead th {\n",
       "        text-align: right;\n",
       "    }\n",
       "</style>\n",
       "<table border=\"1\" class=\"dataframe\">\n",
       "  <thead>\n",
       "    <tr style=\"text-align: right;\">\n",
       "      <th></th>\n",
       "      <th>query</th>\n",
       "      <th>query-type</th>\n",
       "      <th>execution_time</th>\n",
       "      <th>outcome</th>\n",
       "      <th>error_message</th>\n",
       "    </tr>\n",
       "  </thead>\n",
       "  <tbody>\n",
       "    <tr>\n",
       "      <th>0</th>\n",
       "      <td>UPDATE productlines SET image = 'VBWJH616LC' W...</td>\n",
       "      <td>update</td>\n",
       "      <td>0.046847</td>\n",
       "      <td>True</td>\n",
       "      <td>NaN</td>\n",
       "    </tr>\n",
       "    <tr>\n",
       "      <th>1</th>\n",
       "      <td>UPDATE customers SET postalCode = '2AX7KH5N4D'...</td>\n",
       "      <td>update</td>\n",
       "      <td>0.000000</td>\n",
       "      <td>False</td>\n",
       "      <td>1292 (22007): Truncated incorrect DECIMAL valu...</td>\n",
       "    </tr>\n",
       "    <tr>\n",
       "      <th>2</th>\n",
       "      <td>INSERT INTO customers (customerNumber, custome...</td>\n",
       "      <td>insert</td>\n",
       "      <td>0.000000</td>\n",
       "      <td>False</td>\n",
       "      <td>1366 (HY000): Incorrect decimal value: 'Unknow...</td>\n",
       "    </tr>\n",
       "    <tr>\n",
       "      <th>3</th>\n",
       "      <td>INSERT INTO products (productCode, productName...</td>\n",
       "      <td>insert</td>\n",
       "      <td>0.000000</td>\n",
       "      <td>False</td>\n",
       "      <td>1366 (HY000): Incorrect integer value: 'Unknow...</td>\n",
       "    </tr>\n",
       "    <tr>\n",
       "      <th>4</th>\n",
       "      <td>INSERT INTO offices (officeCode, city, phone, ...</td>\n",
       "      <td>insert</td>\n",
       "      <td>0.093958</td>\n",
       "      <td>True</td>\n",
       "      <td>NaN</td>\n",
       "    </tr>\n",
       "  </tbody>\n",
       "</table>\n",
       "</div>\n",
       "    <div class=\"colab-df-buttons\">\n",
       "\n",
       "  <div class=\"colab-df-container\">\n",
       "    <button class=\"colab-df-convert\" onclick=\"convertToInteractive('df-8a9a4159-86ae-499c-9ad4-148b7d1868b9')\"\n",
       "            title=\"Convert this dataframe to an interactive table.\"\n",
       "            style=\"display:none;\">\n",
       "\n",
       "  <svg xmlns=\"http://www.w3.org/2000/svg\" height=\"24px\" viewBox=\"0 -960 960 960\">\n",
       "    <path d=\"M120-120v-720h720v720H120Zm60-500h600v-160H180v160Zm220 220h160v-160H400v160Zm0 220h160v-160H400v160ZM180-400h160v-160H180v160Zm440 0h160v-160H620v160ZM180-180h160v-160H180v160Zm440 0h160v-160H620v160Z\"/>\n",
       "  </svg>\n",
       "    </button>\n",
       "\n",
       "  <style>\n",
       "    .colab-df-container {\n",
       "      display:flex;\n",
       "      gap: 12px;\n",
       "    }\n",
       "\n",
       "    .colab-df-convert {\n",
       "      background-color: #E8F0FE;\n",
       "      border: none;\n",
       "      border-radius: 50%;\n",
       "      cursor: pointer;\n",
       "      display: none;\n",
       "      fill: #1967D2;\n",
       "      height: 32px;\n",
       "      padding: 0 0 0 0;\n",
       "      width: 32px;\n",
       "    }\n",
       "\n",
       "    .colab-df-convert:hover {\n",
       "      background-color: #E2EBFA;\n",
       "      box-shadow: 0px 1px 2px rgba(60, 64, 67, 0.3), 0px 1px 3px 1px rgba(60, 64, 67, 0.15);\n",
       "      fill: #174EA6;\n",
       "    }\n",
       "\n",
       "    .colab-df-buttons div {\n",
       "      margin-bottom: 4px;\n",
       "    }\n",
       "\n",
       "    [theme=dark] .colab-df-convert {\n",
       "      background-color: #3B4455;\n",
       "      fill: #D2E3FC;\n",
       "    }\n",
       "\n",
       "    [theme=dark] .colab-df-convert:hover {\n",
       "      background-color: #434B5C;\n",
       "      box-shadow: 0px 1px 3px 1px rgba(0, 0, 0, 0.15);\n",
       "      filter: drop-shadow(0px 1px 2px rgba(0, 0, 0, 0.3));\n",
       "      fill: #FFFFFF;\n",
       "    }\n",
       "  </style>\n",
       "\n",
       "    <script>\n",
       "      const buttonEl =\n",
       "        document.querySelector('#df-8a9a4159-86ae-499c-9ad4-148b7d1868b9 button.colab-df-convert');\n",
       "      buttonEl.style.display =\n",
       "        google.colab.kernel.accessAllowed ? 'block' : 'none';\n",
       "\n",
       "      async function convertToInteractive(key) {\n",
       "        const element = document.querySelector('#df-8a9a4159-86ae-499c-9ad4-148b7d1868b9');\n",
       "        const dataTable =\n",
       "          await google.colab.kernel.invokeFunction('convertToInteractive',\n",
       "                                                    [key], {});\n",
       "        if (!dataTable) return;\n",
       "\n",
       "        const docLinkHtml = 'Like what you see? Visit the ' +\n",
       "          '<a target=\"_blank\" href=https://colab.research.google.com/notebooks/data_table.ipynb>data table notebook</a>'\n",
       "          + ' to learn more about interactive tables.';\n",
       "        element.innerHTML = '';\n",
       "        dataTable['output_type'] = 'display_data';\n",
       "        await google.colab.output.renderOutput(dataTable, element);\n",
       "        const docLink = document.createElement('div');\n",
       "        docLink.innerHTML = docLinkHtml;\n",
       "        element.appendChild(docLink);\n",
       "      }\n",
       "    </script>\n",
       "  </div>\n",
       "\n",
       "\n",
       "<div id=\"df-be9b8af0-fde7-4944-a2e0-168aac280a13\">\n",
       "  <button class=\"colab-df-quickchart\" onclick=\"quickchart('df-be9b8af0-fde7-4944-a2e0-168aac280a13')\"\n",
       "            title=\"Suggest charts\"\n",
       "            style=\"display:none;\">\n",
       "\n",
       "<svg xmlns=\"http://www.w3.org/2000/svg\" height=\"24px\"viewBox=\"0 0 24 24\"\n",
       "     width=\"24px\">\n",
       "    <g>\n",
       "        <path d=\"M19 3H5c-1.1 0-2 .9-2 2v14c0 1.1.9 2 2 2h14c1.1 0 2-.9 2-2V5c0-1.1-.9-2-2-2zM9 17H7v-7h2v7zm4 0h-2V7h2v10zm4 0h-2v-4h2v4z\"/>\n",
       "    </g>\n",
       "</svg>\n",
       "  </button>\n",
       "\n",
       "<style>\n",
       "  .colab-df-quickchart {\n",
       "      --bg-color: #E8F0FE;\n",
       "      --fill-color: #1967D2;\n",
       "      --hover-bg-color: #E2EBFA;\n",
       "      --hover-fill-color: #174EA6;\n",
       "      --disabled-fill-color: #AAA;\n",
       "      --disabled-bg-color: #DDD;\n",
       "  }\n",
       "\n",
       "  [theme=dark] .colab-df-quickchart {\n",
       "      --bg-color: #3B4455;\n",
       "      --fill-color: #D2E3FC;\n",
       "      --hover-bg-color: #434B5C;\n",
       "      --hover-fill-color: #FFFFFF;\n",
       "      --disabled-bg-color: #3B4455;\n",
       "      --disabled-fill-color: #666;\n",
       "  }\n",
       "\n",
       "  .colab-df-quickchart {\n",
       "    background-color: var(--bg-color);\n",
       "    border: none;\n",
       "    border-radius: 50%;\n",
       "    cursor: pointer;\n",
       "    display: none;\n",
       "    fill: var(--fill-color);\n",
       "    height: 32px;\n",
       "    padding: 0;\n",
       "    width: 32px;\n",
       "  }\n",
       "\n",
       "  .colab-df-quickchart:hover {\n",
       "    background-color: var(--hover-bg-color);\n",
       "    box-shadow: 0 1px 2px rgba(60, 64, 67, 0.3), 0 1px 3px 1px rgba(60, 64, 67, 0.15);\n",
       "    fill: var(--button-hover-fill-color);\n",
       "  }\n",
       "\n",
       "  .colab-df-quickchart-complete:disabled,\n",
       "  .colab-df-quickchart-complete:disabled:hover {\n",
       "    background-color: var(--disabled-bg-color);\n",
       "    fill: var(--disabled-fill-color);\n",
       "    box-shadow: none;\n",
       "  }\n",
       "\n",
       "  .colab-df-spinner {\n",
       "    border: 2px solid var(--fill-color);\n",
       "    border-color: transparent;\n",
       "    border-bottom-color: var(--fill-color);\n",
       "    animation:\n",
       "      spin 1s steps(1) infinite;\n",
       "  }\n",
       "\n",
       "  @keyframes spin {\n",
       "    0% {\n",
       "      border-color: transparent;\n",
       "      border-bottom-color: var(--fill-color);\n",
       "      border-left-color: var(--fill-color);\n",
       "    }\n",
       "    20% {\n",
       "      border-color: transparent;\n",
       "      border-left-color: var(--fill-color);\n",
       "      border-top-color: var(--fill-color);\n",
       "    }\n",
       "    30% {\n",
       "      border-color: transparent;\n",
       "      border-left-color: var(--fill-color);\n",
       "      border-top-color: var(--fill-color);\n",
       "      border-right-color: var(--fill-color);\n",
       "    }\n",
       "    40% {\n",
       "      border-color: transparent;\n",
       "      border-right-color: var(--fill-color);\n",
       "      border-top-color: var(--fill-color);\n",
       "    }\n",
       "    60% {\n",
       "      border-color: transparent;\n",
       "      border-right-color: var(--fill-color);\n",
       "    }\n",
       "    80% {\n",
       "      border-color: transparent;\n",
       "      border-right-color: var(--fill-color);\n",
       "      border-bottom-color: var(--fill-color);\n",
       "    }\n",
       "    90% {\n",
       "      border-color: transparent;\n",
       "      border-bottom-color: var(--fill-color);\n",
       "    }\n",
       "  }\n",
       "</style>\n",
       "\n",
       "  <script>\n",
       "    async function quickchart(key) {\n",
       "      const quickchartButtonEl =\n",
       "        document.querySelector('#' + key + ' button');\n",
       "      quickchartButtonEl.disabled = true;  // To prevent multiple clicks.\n",
       "      quickchartButtonEl.classList.add('colab-df-spinner');\n",
       "      try {\n",
       "        const charts = await google.colab.kernel.invokeFunction(\n",
       "            'suggestCharts', [key], {});\n",
       "      } catch (error) {\n",
       "        console.error('Error during call to suggestCharts:', error);\n",
       "      }\n",
       "      quickchartButtonEl.classList.remove('colab-df-spinner');\n",
       "      quickchartButtonEl.classList.add('colab-df-quickchart-complete');\n",
       "    }\n",
       "    (() => {\n",
       "      let quickchartButtonEl =\n",
       "        document.querySelector('#df-be9b8af0-fde7-4944-a2e0-168aac280a13 button');\n",
       "      quickchartButtonEl.style.display =\n",
       "        google.colab.kernel.accessAllowed ? 'block' : 'none';\n",
       "    })();\n",
       "  </script>\n",
       "</div>\n",
       "\n",
       "    </div>\n",
       "  </div>\n"
      ],
      "text/plain": [
       "                                               query query-type  \\\n",
       "0  UPDATE productlines SET image = 'VBWJH616LC' W...     update   \n",
       "1  UPDATE customers SET postalCode = '2AX7KH5N4D'...     update   \n",
       "2  INSERT INTO customers (customerNumber, custome...     insert   \n",
       "3  INSERT INTO products (productCode, productName...     insert   \n",
       "4  INSERT INTO offices (officeCode, city, phone, ...     insert   \n",
       "\n",
       "   execution_time  outcome                                      error_message  \n",
       "0        0.046847     True                                                NaN  \n",
       "1        0.000000    False  1292 (22007): Truncated incorrect DECIMAL valu...  \n",
       "2        0.000000    False  1366 (HY000): Incorrect decimal value: 'Unknow...  \n",
       "3        0.000000    False  1366 (HY000): Incorrect integer value: 'Unknow...  \n",
       "4        0.093958     True                                                NaN  "
      ]
     },
     "execution_count": 6,
     "metadata": {},
     "output_type": "execute_result"
    }
   ],
   "source": [
    "df.head()"
   ]
  },
  {
   "cell_type": "code",
   "execution_count": 8,
   "metadata": {
    "executionInfo": {
     "elapsed": 27,
     "status": "ok",
     "timestamp": 1706868264945,
     "user": {
      "displayName": "mohit sharma",
      "userId": "17302262804807264505"
     },
     "user_tz": -330
    },
    "id": "tuCi_nM4RiAk"
   },
   "outputs": [],
   "source": [
    "# Extract features and target\n",
    "X = df[['query', 'query-type']]  # double square brackets for DataFrame\n",
    "y = df['outcome']"
   ]
  },
  {
   "cell_type": "code",
   "execution_count": 9,
   "metadata": {
    "executionInfo": {
     "elapsed": 3717,
     "status": "ok",
     "timestamp": 1706868296294,
     "user": {
      "displayName": "mohit sharma",
      "userId": "17302262804807264505"
     },
     "user_tz": -330
    },
    "id": "1TRwCNJ2Rsie"
   },
   "outputs": [],
   "source": [
    "from sklearn.preprocessing import LabelEncoder, OneHotEncoder\n",
    "from tensorflow.keras.preprocessing.text import Tokenizer\n",
    "from tensorflow.keras.preprocessing.sequence import pad_sequences\n",
    "\n",
    "\n"
   ]
  },
  {
   "cell_type": "code",
   "execution_count": 10,
   "metadata": {
    "executionInfo": {
     "elapsed": 3519,
     "status": "ok",
     "timestamp": 1706868330647,
     "user": {
      "displayName": "mohit sharma",
      "userId": "17302262804807264505"
     },
     "user_tz": -330
    },
    "id": "8VsrYDksR1fY"
   },
   "outputs": [],
   "source": [
    "# Initialize tokenizer for 'query' (textual data)\n",
    "tokenizer = Tokenizer()\n",
    "tokenizer.fit_on_texts(X['query'])\n",
    "X_query_seq = tokenizer.texts_to_sequences(X['query'])\n",
    "\n"
   ]
  },
  {
   "cell_type": "code",
   "execution_count": 11,
   "metadata": {
    "executionInfo": {
     "elapsed": 978,
     "status": "ok",
     "timestamp": 1706868346566,
     "user": {
      "displayName": "mohit sharma",
      "userId": "17302262804807264505"
     },
     "user_tz": -330
    },
    "id": "n-a70H6RR13_"
   },
   "outputs": [],
   "source": [
    "# Pad sequences to ensure uniform length\n",
    "max_length = max([len(x) for x in X_query_seq])\n",
    "X_query_padded = pad_sequences(X_query_seq, maxlen=max_length, padding='post')\n",
    "\n"
   ]
  },
  {
   "cell_type": "code",
   "execution_count": 13,
   "metadata": {
    "executionInfo": {
     "elapsed": 489,
     "status": "ok",
     "timestamp": 1706868386122,
     "user": {
      "displayName": "mohit sharma",
      "userId": "17302262804807264505"
     },
     "user_tz": -330
    },
    "id": "GRw7eVw4R18c"
   },
   "outputs": [],
   "source": [
    "# Encode 'query_type' (categorical data)\n",
    "label_encoder = LabelEncoder()\n",
    "X_query_type_encoded = label_encoder.fit_transform(X['query-type']).reshape(-1, 1)\n",
    "\n"
   ]
  },
  {
   "cell_type": "code",
   "execution_count": 15,
   "metadata": {
    "executionInfo": {
     "elapsed": 457,
     "status": "ok",
     "timestamp": 1706868536288,
     "user": {
      "displayName": "mohit sharma",
      "userId": "17302262804807264505"
     },
     "user_tz": -330
    },
    "id": "pg7ZDutcR2BT"
   },
   "outputs": [],
   "source": [
    "import numpy as np\n",
    "X_processed = np.hstack((X_query_padded, X_query_type_encoded))  # Adjust this depending on how you want to combine features\n"
   ]
  },
  {
   "cell_type": "code",
   "execution_count": 16,
   "metadata": {
    "executionInfo": {
     "elapsed": 411,
     "status": "ok",
     "timestamp": 1706868577870,
     "user": {
      "displayName": "mohit sharma",
      "userId": "17302262804807264505"
     },
     "user_tz": -330
    },
    "id": "BeVLTUA0R2Fa"
   },
   "outputs": [],
   "source": [
    "# If 'outcome' is categorical\n",
    "y_encoded = label_encoder.fit_transform(y)\n",
    "\n"
   ]
  },
  {
   "cell_type": "code",
   "execution_count": 17,
   "metadata": {
    "executionInfo": {
     "elapsed": 483,
     "status": "ok",
     "timestamp": 1706868637014,
     "user": {
      "displayName": "mohit sharma",
      "userId": "17302262804807264505"
     },
     "user_tz": -330
    },
    "id": "shzf2dg_R2KN"
   },
   "outputs": [],
   "source": [
    "#Train-Test Split\n",
    "\n",
    "from sklearn.model_selection import train_test_split\n",
    "\n",
    "X_train, X_test, y_train, y_test = train_test_split(X_processed, y_encoded, test_size=0.2)\n"
   ]
  },
  {
   "cell_type": "code",
   "execution_count": null,
   "metadata": {
    "id": "5j3SyuBRY2sU"
   },
   "outputs": [],
   "source": []
  },
  {
   "cell_type": "code",
   "execution_count": 36,
   "metadata": {
    "colab": {
     "base_uri": "https://localhost:8080/"
    },
    "executionInfo": {
     "elapsed": 89298,
     "status": "ok",
     "timestamp": 1706875839435,
     "user": {
      "displayName": "mohit sharma",
      "userId": "17302262804807264505"
     },
     "user_tz": -330
    },
    "id": "7FrZ6IKzqT8e",
    "outputId": "c72ec25d-e0c9-4c1f-ef85-d34493df1b5b"
   },
   "outputs": [
    {
     "name": "stdout",
     "output_type": "stream",
     "text": [
      "64492/64492 [==============================] - 1088s 17ms/step - loss: 0.2035 - accuracy: 0.9291\n",
      "504/504 [==============================] - 5s 9ms/step\n",
      "Accuracy: 0.9359920610308256, Precision: 0.9208042360524902, Recall: 1.0\n"
     ]
    }
   ],
   "source": [
    "from keras.models import Sequential\n",
    "from keras.layers import LSTM, Dense\n",
    "\n",
    "# Build the LSTM model\n",
    "model = Sequential()\n",
    "model.add(LSTM(50, return_sequences=True, input_shape=(X_train.shape[1], 1)))\n",
    "model.add(LSTM(50, return_sequences=False))\n",
    "model.add(Dense(25, activation='relu'))\n",
    "model.add(Dense(1, activation='sigmoid'))  # Sigmoid for binary classification\n",
    "\n",
    "# Compile the model\n",
    "model.compile(optimizer='adam', loss='binary_crossentropy', metrics=['accuracy'])  # Use binary_crossentropy for binary classification\n",
    "\n",
    "# Train the model\n",
    "model.fit(X_train, y_train, batch_size=1, epochs=1)\n",
    "\n",
    "# Make predictions\n",
    "predictions = model.predict(X_test)\n",
    "predictions_binary = (predictions > 0.5).astype(int)  # Convert probabilities to binary values\n",
    "\n",
    "# Evaluation\n",
    "from sklearn.metrics import accuracy_score, precision_score, recall_score\n",
    "\n",
    "# Evaluate the model\n",
    "accuracy = accuracy_score(y_test, predictions_binary)\n",
    "precision = precision_score(y_test, predictions_binary)\n",
    "recall = recall_score(y_test, predictions_binary)\n",
    "\n",
    "print(f\"Accuracy: {accuracy}, Precision: {precision}, Recall: {recall}\")\n"
   ]
  }
 ],
 "metadata": {
  "colab": {
   "authorship_tag": "ABX9TyOsZPiCk7PwZFjjuKgoq8hs",
   "mount_file_id": "1j0ulsLlXd5VLQUd3KUPigLaQcbxM9E1O",
   "provenance": []
  },
  "kernelspec": {
   "display_name": "Python 3 (ipykernel)",
   "language": "python",
   "name": "python3"
  },
  "language_info": {
   "codemirror_mode": {
    "name": "ipython",
    "version": 3
   },
   "file_extension": ".py",
   "mimetype": "text/x-python",
   "name": "python",
   "nbconvert_exporter": "python",
   "pygments_lexer": "ipython3",
   "version": "3.11.5"
  }
 },
 "nbformat": 4,
 "nbformat_minor": 1
}
